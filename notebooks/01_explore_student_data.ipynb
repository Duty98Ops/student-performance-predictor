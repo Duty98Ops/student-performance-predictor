{
 "cells": [
  {
   "cell_type": "markdown",
   "id": "e3f10ee4",
   "metadata": {},
   "source": [
    " Tahap 1: Pengumpulan & Eksplorasi Data"
   ]
  },
  {
   "cell_type": "code",
   "execution_count": 185,
   "id": "6d33b6ce",
   "metadata": {},
   "outputs": [],
   "source": [
    "import os\n",
    "import pandas as pd\n",
    "from sklearn.model_selection import train_test_split\n",
    "from sklearn.pipeline import Pipeline\n",
    "from sklearn.compose import ColumnTransformer\n",
    "from sklearn.preprocessing import OneHotEncoder\n",
    "from sklearn.ensemble import RandomForestClassifier\n",
    "from sklearn.metrics import classification_report, confusion_matrix\n",
    "import joblib"
   ]
  },
  {
   "cell_type": "code",
   "execution_count": 186,
   "id": "a5fd9578",
   "metadata": {},
   "outputs": [],
   "source": [
    "df = pd.read_csv('../data/StudentsPerformance.csv')\n",
    "\n",
    "# Hitung rata-rata nilai\n",
    "df['average_score'] = df[['math score', 'reading score', 'writing score']].mean(axis=1)\n",
    "\n",
    "# Label kelulusan\n",
    "df['Passed'] = df['average_score'].apply(lambda x: 1 if x >= 60 else 0)\n",
    "\n",
    "# Mapping nilai kategori ke label lebih deskriptif\n",
    "df['race/ethnicity'] = df['race/ethnicity'].map({\n",
    "    'group A': 'Kelompok Sosial Ekonomi 1 (Rendah)',\n",
    "    'group B': 'Kelompok Sosial Ekonomi 2',\n",
    "    'group C': 'Kelompok Sosial Ekonomi 3 (Menengah)',\n",
    "    'group D': 'Kelompok Sosial Ekonomi 4',\n",
    "    'group E': 'Kelompok Sosial Ekonomi 5 (Tinggi)'\n",
    "})\n",
    "df['lunch'] = df['lunch'].map({\n",
    "    'standard': 'Bayar Sendiri',\n",
    "    'free/reduced': 'Subsidi Sekolah'\n",
    "})\n",
    "df['test preparation course'] = df['test preparation course'].map({\n",
    "    'none': 'Tidak Ikut Bimbel',\n",
    "    'completed': 'Selesai Ikut Bimbel'\n",
    "})\n",
    "\n",
    "# Simpan data yang telah dibersihkan\n",
    "df.to_csv('../data/student_cleaned.csv', index=False)"
   ]
  },
  {
   "cell_type": "markdown",
   "id": "c45fa258",
   "metadata": {},
   "source": [
    "Tahap 2: Feature Selection & Split"
   ]
  },
  {
   "cell_type": "code",
   "execution_count": 187,
   "id": "625c78c5",
   "metadata": {},
   "outputs": [],
   "source": [
    "X = df[[\n",
    "    'gender',\n",
    "    'race/ethnicity',\n",
    "    'parental level of education',\n",
    "    'lunch',\n",
    "    'test preparation course',\n",
    "    'math score',\n",
    "    'reading score',\n",
    "    'writing score'\n",
    "]]\n",
    "y = df['Passed']\n",
    "\n",
    "# Split data\n",
    "X_train, X_test, y_train, y_test = train_test_split(X, y, test_size=0.2, random_state=42)"
   ]
  },
  {
   "cell_type": "markdown",
   "id": "6fd261ab",
   "metadata": {},
   "source": [
    "Tahap 3: Preprocessing & Pipeline"
   ]
  },
  {
   "cell_type": "code",
   "execution_count": 188,
   "id": "c1858574",
   "metadata": {},
   "outputs": [
    {
     "name": "stdout",
     "output_type": "stream",
     "text": [
      "Confusion Matrix:\n",
      " [[ 61   1]\n",
      " [  3 135]]\n",
      "\n",
      "Classification Report:\n",
      "               precision    recall  f1-score   support\n",
      "\n",
      "           0       0.95      0.98      0.97        62\n",
      "           1       0.99      0.98      0.99       138\n",
      "\n",
      "    accuracy                           0.98       200\n",
      "   macro avg       0.97      0.98      0.98       200\n",
      "weighted avg       0.98      0.98      0.98       200\n",
      "\n"
     ]
    }
   ],
   "source": [
    "cat_features = ['gender', 'race/ethnicity', 'parental level of education', 'lunch', 'test preparation course']\n",
    "\n",
    "preprocessor = ColumnTransformer(transformers=[\n",
    "    ('cat', OneHotEncoder(handle_unknown='ignore'), cat_features)\n",
    "], remainder='passthrough')\n",
    "\n",
    "pipeline = Pipeline(steps=[\n",
    "    ('preprocessor', preprocessor),\n",
    "    ('classifier', RandomForestClassifier(random_state=42))\n",
    "])\n",
    "\n",
    "# Train model\n",
    "pipeline.fit(X_train, y_train)\n",
    "\n",
    "# Predict & evaluate\n",
    "y_pred = pipeline.predict(X_test)\n",
    "print(\"Confusion Matrix:\\n\", confusion_matrix(y_test, y_pred))\n",
    "print(\"\\nClassification Report:\\n\", classification_report(y_test, y_pred))\n"
   ]
  },
  {
   "cell_type": "markdown",
   "id": "649bfc92",
   "metadata": {},
   "source": [
    "Tahap 4: Save Model & Pipeline"
   ]
  },
  {
   "cell_type": "code",
   "execution_count": 189,
   "id": "802e31b0",
   "metadata": {},
   "outputs": [
    {
     "data": {
      "text/plain": [
       "['../model/feature_names.pkl']"
      ]
     },
     "execution_count": 189,
     "metadata": {},
     "output_type": "execute_result"
    }
   ],
   "source": [
    "import os\n",
    "import joblib\n",
    "\n",
    "# Buat folder model jika belum ada\n",
    "os.makedirs('../model', exist_ok=True)\n",
    "\n",
    "# Simpan pipeline lengkap (preprocessor + model)\n",
    "joblib.dump(pipeline, '../model/pipeline.pkl')\n",
    "\n",
    "# (Opsional) Simpan hanya model classifier\n",
    "joblib.dump(pipeline.named_steps['classifier'], '../model/model.pkl')\n",
    "\n",
    "# (Opsional) Simpan nama-nama fitur\n",
    "joblib.dump(X.columns.tolist(), '../model/feature_names.pkl')\n"
   ]
  }
 ],
 "metadata": {
  "kernelspec": {
   "display_name": "Python 3",
   "language": "python",
   "name": "python3"
  },
  "language_info": {
   "codemirror_mode": {
    "name": "ipython",
    "version": 3
   },
   "file_extension": ".py",
   "mimetype": "text/x-python",
   "name": "python",
   "nbconvert_exporter": "python",
   "pygments_lexer": "ipython3",
   "version": "3.12.6"
  }
 },
 "nbformat": 4,
 "nbformat_minor": 5
}
